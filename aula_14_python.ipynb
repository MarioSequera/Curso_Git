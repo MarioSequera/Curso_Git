{
  "nbformat": 4,
  "nbformat_minor": 0,
  "metadata": {
    "colab": {
      "provenance": [],
      "authorship_tag": "ABX9TyP7UadG6FCyzW78qL7l0+ZU",
      "include_colab_link": true
    },
    "kernelspec": {
      "name": "python3",
      "display_name": "Python 3"
    },
    "language_info": {
      "name": "python"
    }
  },
  "cells": [
    {
      "cell_type": "markdown",
      "metadata": {
        "id": "view-in-github",
        "colab_type": "text"
      },
      "source": [
        "<a href=\"https://colab.research.google.com/github/MarioSequera/Curso_Git/blob/feature/aula_14_python.ipynb\" target=\"_parent\"><img src=\"https://colab.research.google.com/assets/colab-badge.svg\" alt=\"Open In Colab\"/></a>"
      ]
    },
    {
      "cell_type": "code",
      "execution_count": null,
      "metadata": {
        "colab": {
          "base_uri": "https://localhost:8080/"
        },
        "id": "fGhSxeKM9puJ",
        "outputId": "c2427964-14af-4f12-a4a4-af334aad1102"
      },
      "outputs": [
        {
          "output_type": "stream",
          "name": "stdout",
          "text": [
            "nombre: Mario\n",
            "edad: 47\n",
            "Los datos personales de Mario  Y la edad es 47\n"
          ]
        }
      ],
      "source": [
        "\n",
        "nombre = input(\"nombre: \") \n",
        "edad = input(\"edad: \")\n",
        "print(\"Los datos personales de\", nombre,\" Y la edad es\", edad )"
      ]
    }
  ]
}